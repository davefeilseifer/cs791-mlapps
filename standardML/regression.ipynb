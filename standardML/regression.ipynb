{
 "cells": [
  {
   "cell_type": "code",
   "execution_count": null,
   "metadata": {},
   "outputs": [],
   "source": [
    "import numpy as np\n",
    "import matplotlib.pyplot as plt\n",
    "\n",
    "X = 2 * np.random.rand( 100, 1 )\n",
    "y = 4 + 3 * (X) + np.random.randn(100,1)\n",
    "\n",
    "#print( X )\n",
    "#print( y )\n",
    "\n",
    "# plot\n",
    "plt.plot(X, y, \"b.\")"
   ]
  },
  {
   "cell_type": "code",
   "execution_count": null,
   "metadata": {},
   "outputs": [],
   "source": [
    "X_b = np.c_[np.ones((100,1)), X]\n",
    "theta_best = np.linalg.inv(X_b.T.dot(X_b)).dot(X_b.T).dot(y)\n",
    "theta_best"
   ]
  },
  {
   "cell_type": "code",
   "execution_count": null,
   "metadata": {},
   "outputs": [],
   "source": [
    "# make some predictions\n",
    "X_new = np.array([[0],[2]])\n",
    "print( X_new )\n",
    "\n",
    "X_new_b = np.c_[np.ones((2,1)), X_new]\n",
    "print (X_new_b)\n",
    "\n",
    "y_predict = X_new_b.dot(theta_best)\n",
    "print(y_predict)"
   ]
  },
  {
   "cell_type": "code",
   "execution_count": null,
   "metadata": {},
   "outputs": [],
   "source": [
    "plt.plot(X_new, y_predict, \"c-\")\n",
    "plt.plot(X, y, \"b.\")\n",
    "plt.axis([0,2,0,20])\n",
    "plt.show()"
   ]
  },
  {
   "cell_type": "code",
   "execution_count": null,
   "metadata": {},
   "outputs": [],
   "source": [
    "# OK, so line looks like a good fit, let's try the same thing\n",
    "# with the linear regression\n",
    "\n",
    "from sklearn.linear_model import LinearRegression\n",
    "lin_reg = LinearRegression()\n",
    "lin_reg.fit(X,y)\n",
    "lin_reg.intercept_, lin_reg.coef_"
   ]
  },
  {
   "cell_type": "code",
   "execution_count": null,
   "metadata": {},
   "outputs": [],
   "source": [
    "lin_reg.predict(X_new)"
   ]
  },
  {
   "cell_type": "code",
   "execution_count": null,
   "metadata": {},
   "outputs": [],
   "source": [
    "# so that works, but let's try again with quadratic data\n",
    "def true_fun(X):\n",
    "    return 4 + 20 * (X-1)**2\n",
    "\n",
    "X = 2 * np.sort(np.random.rand( 100, 1 ))\n",
    "y = true_fun(X) + np.random.randn(100,1)\n",
    "\n",
    "plt.plot(X, y, \"b.\")\n",
    "\n"
   ]
  },
  {
   "cell_type": "code",
   "execution_count": null,
   "metadata": {},
   "outputs": [],
   "source": [
    "X_b = np.c_[np.ones((100,1)), X]\n",
    "theta_best = np.linalg.inv(X_b.T.dot(X_b)).dot(X_b.T).dot(y)\n",
    "theta_best\n",
    "\n",
    "# make some predictions\n",
    "X_new = np.arange(0,2, 0.05)\n",
    "#print( X_new )\n",
    "\n",
    "X_new_b = np.c_[np.ones((40,1)), X_new]\n",
    "#print (X_new_b)\n",
    "\n",
    "y_predict = X_new_b.dot(theta_best)\n",
    "#print(y_predict)\n",
    "\n",
    "plt.plot(X_new, y_predict, \"c-\")\n",
    "plt.plot(X, y, \"b.\")\n",
    "plt.axis([0,2,0,20])\n",
    "plt.show()\n",
    "\n"
   ]
  },
  {
   "cell_type": "code",
   "execution_count": null,
   "metadata": {},
   "outputs": [],
   "source": [
    "# OK so line is bad fit, let's try higher-order model\n",
    "import numpy as np\n",
    "import matplotlib.pyplot as plt\n",
    "from sklearn.pipeline import Pipeline\n",
    "from sklearn.preprocessing import PolynomialFeatures\n",
    "from sklearn.linear_model import LinearRegression\n",
    "from sklearn.model_selection import cross_val_score\n",
    "\n",
    "\n",
    "def true_fun(X):\n",
    "    return 4 + 20 * (X-1)**2\n",
    "\n",
    "np.random.seed(0)\n",
    "\n",
    "n_samples = 60\n",
    "degrees = [1, 2, 15]\n",
    "\n",
    "X = np.sort(np.random.rand(n_samples))*1.5\n",
    "y = true_fun(X) + np.random.randn(n_samples) * 1\n",
    "\n",
    "plt.figure(figsize=(14, 5))\n",
    "for i in range(len(degrees)):\n",
    "    ax = plt.subplot(1, len(degrees), i + 1)\n",
    "    plt.setp(ax, xticks=(), yticks=())\n",
    "\n",
    "    polynomial_features = PolynomialFeatures(degree=degrees[i],\n",
    "                                             include_bias=False)\n",
    "    linear_regression = LinearRegression()\n",
    "    pipeline = Pipeline([(\"polynomial_features\", polynomial_features),\n",
    "                         (\"linear_regression\", linear_regression)])\n",
    "    pipeline.fit(X[:, np.newaxis], y)\n",
    "\n",
    "    # Evaluate the models using crossvalidation\n",
    "    scores = cross_val_score(pipeline, X[:, np.newaxis], y,\n",
    "                             scoring=\"neg_mean_squared_error\", cv=10)\n",
    "\n",
    "    X_test = np.linspace(0, 2, 100)\n",
    "    plt.plot(X_test, pipeline.predict(X_test[:, np.newaxis]), label=\"Model\")\n",
    "    plt.plot(X_test, true_fun(X_test), label=\"True function\")\n",
    "    plt.scatter(X, y, edgecolor='b', s=20, label=\"Samples\")\n",
    "    plt.xlabel(\"x\")\n",
    "    plt.ylabel(\"y\")\n",
    "    plt.xlim((0, 2))\n",
    "    plt.ylim((0, 20))\n",
    "    plt.legend(loc=\"best\")\n",
    "    plt.title(\"Degree {}\\nMSE = {:.2e}(+/- {:.2e})\".format(\n",
    "        degrees[i], -scores.mean(), scores.std()))\n",
    "plt.show()\n"
   ]
  },
  {
   "cell_type": "code",
   "execution_count": null,
   "metadata": {},
   "outputs": [],
   "source": [
    "#now we'll work with regularization (Ridge Regression)\n",
    "\n",
    "import numpy as np\n",
    "import matplotlib.pyplot as plt\n",
    "from sklearn.linear_model import Ridge\n",
    "from sklearn.pipeline import make_pipeline\n",
    "\n",
    "def true_fun(X):\n",
    "    return 4 + 3 * (X-1)*2\n",
    "\n",
    "np.random.seed(0)\n",
    "\n",
    "n_samples = 20\n",
    "alphas = [0, .05, 1, 100]\n",
    "\n",
    "X = np.sort(np.random.rand(n_samples))*1.75\n",
    "y = true_fun(X) + np.random.randn(n_samples) * .5\n",
    "\n",
    "plt.figure(figsize=(14, 5))\n",
    "for i in range(len(alphas)):\n",
    "    ax = plt.subplot(1, len(alphas), i + 1)\n",
    "    plt.setp(ax, xticks=(), yticks=())\n",
    "\n",
    "    model = make_pipeline(PolynomialFeatures(14), Ridge(alpha=alphas[i], solver=\"cholesky\"))\n",
    "    model.fit(X[:,np.newaxis], y)\n",
    "\n",
    "\n",
    "    X_test = np.linspace(0, 2, 100)\n",
    "    plt.plot(X_test, model.predict(X_test[:, np.newaxis]), label=\"Model\")\n",
    "    plt.plot(X_test, true_fun(X_test), label=\"True function\")\n",
    "    plt.scatter(X, y, edgecolor='b', s=20, label=\"Samples\")\n",
    "    plt.xlabel(\"x\")\n",
    "    plt.ylabel(\"y\")\n",
    "    plt.xlim((0, 2))\n",
    "    plt.ylim((0, 20))\n",
    "    plt.legend(loc=\"best\")\n",
    "    plt.title(\"Alpha {}\\n\".format(\n",
    "        alphas[i]))\n",
    "plt.show()\n"
   ]
  },
  {
   "cell_type": "code",
   "execution_count": null,
   "metadata": {},
   "outputs": [],
   "source": []
  },
  {
   "cell_type": "code",
   "execution_count": null,
   "metadata": {},
   "outputs": [],
   "source": []
  }
 ],
 "metadata": {
  "kernelspec": {
   "display_name": "Python 3",
   "language": "python",
   "name": "python3"
  },
  "language_info": {
   "codemirror_mode": {
    "name": "ipython",
    "version": 3
   },
   "file_extension": ".py",
   "mimetype": "text/x-python",
   "name": "python",
   "nbconvert_exporter": "python",
   "pygments_lexer": "ipython3",
   "version": "3.4.3"
  }
 },
 "nbformat": 4,
 "nbformat_minor": 2
}
